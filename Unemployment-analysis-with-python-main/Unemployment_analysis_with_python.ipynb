{
  "cells": [
    {
      "cell_type": "markdown",
      "metadata": {
        "id": "PyotJb6MtEBl"
      },
      "source": [
        "## Import the Libraries"
      ]
    },
    {
      "cell_type": "code",
      "execution_count": null,
      "metadata": {
        "id": "L_duhwdXUanb"
      },
      "outputs": [],
      "source": [
        "import numpy as np\n",
        "import pandas as pd\n",
        "import matplotlib.pyplot as plt\n",
        "import seaborn as sns\n",
        "import plotly .express as px"
      ]
    },
    {
      "cell_type": "markdown",
      "metadata": {
        "id": "Ac76Yg2ktKAl"
      },
      "source": [
        "## Loading the dataset"
      ]
    },
    {
      "cell_type": "code",
      "execution_count": null,
      "metadata": {
        "id": "b4B-IsQrU0k9"
      },
      "outputs": [],
      "source": [
        "data = pd.read_csv('/content/Unemployment_Rate_upto_11_2020.csv')\n",
        "data"
      ]
    },
    {
      "cell_type": "code",
      "execution_count": null,
      "metadata": {
        "id": "2V--JR3pYXND"
      },
      "outputs": [],
      "source": [
        "# checking dataset information\n",
        "data.info()"
      ]
    },
    {
      "cell_type": "code",
      "execution_count": null,
      "metadata": {
        "id": "vyA3Klu-YeID"
      },
      "outputs": [],
      "source": [
        "# describing the dataset\n",
        "data.describe()"
      ]
    },
    {
      "cell_type": "code",
      "execution_count": null,
      "metadata": {
        "id": "9gJ4KP3tYsdL"
      },
      "outputs": [],
      "source": [
        "# check null/missing values\n",
        "data.isnull().sum()"
      ]
    },
    {
      "cell_type": "code",
      "execution_count": null,
      "metadata": {
        "id": "7221DKKSYuui"
      },
      "outputs": [],
      "source": [
        "# rename columns\n",
        "data.columns = ['States','Date','Frequency','Estimated Unemployment Rate',\n",
        "                'Estimated Employed','Estimated Labour Participation Rate',\n",
        "                'Region','Longitude','Latitude']"
      ]
    },
    {
      "cell_type": "code",
      "execution_count": null,
      "metadata": {
        "id": "Uf1XYpN4ZPb-"
      },
      "outputs": [],
      "source": [
        "# analysing top rows of dataset\n",
        "data.head()"
      ]
    },
    {
      "cell_type": "markdown",
      "metadata": {
        "id": "j83TmcbkuC19"
      },
      "source": [
        "## CHECKING THE CORRELATION BETWEEN THE FEATURE OF DATASET"
      ]
    },
    {
      "cell_type": "code",
      "execution_count": null,
      "metadata": {
        "id": "ILuROI2xT7Cb"
      },
      "outputs": [],
      "source": [
        "# plotting correlation heatmap\n",
        "\n",
        "plt.style.use('seaborn-whitegrid')\n",
        "plt.figure(figsize=(8,6))\n",
        "\n",
        "# Set tick parameters\n",
        "ax.tick_params(size=10,color='w',labelsize=10, labelcolor='w')\n",
        "\n",
        "# Compute the correlation matrix and plot the heatmap\n",
        "ax = sns.heatmap(data.corr(), annot=True,linewidth=3)\n",
        "\n",
        "plt.show()"
      ]
    },
    {
      "cell_type": "markdown",
      "metadata": {
        "id": "3xNU9o47vT-s"
      },
      "source": [
        "## Estimated no of employee according to different region of india"
      ]
    },
    {
      "cell_type": "code",
      "execution_count": null,
      "metadata": {
        "id": "wBGXHk_guvWU"
      },
      "outputs": [],
      "source": [
        "# plotting histplot\n",
        "\n",
        "data.columns=['States','Date','Frequency','Estimated Unemployment Rate',\n",
        "                'Estimated Employed','Estimated Labour Participation Rate',\n",
        "                'Region','Longitude','Latitude']\n",
        "plt.title('Indian Unemployment')\n",
        "sns.histplot(x='Estimated Employed',hue='Region',data=data)\n",
        "plt.show()"
      ]
    },
    {
      "cell_type": "markdown",
      "metadata": {
        "id": "l6LEyaaivZl4"
      },
      "source": [
        "## Unemployment rate according to different regions of india"
      ]
    },
    {
      "cell_type": "code",
      "execution_count": null,
      "metadata": {
        "id": "TCtHLIzLyP5M"
      },
      "outputs": [],
      "source": [
        "# plotting histplot\n",
        "\n",
        "plt.figure(figsize=(10,8))\n",
        "plt.title(\"Indian Unemployment\")\n",
        "sns.histplot(x=\"Estimated Unemployment Rate\",hue='Region',data=data)\n",
        "plt.show()"
      ]
    },
    {
      "cell_type": "code",
      "execution_count": null,
      "metadata": {
        "id": "FEtFScdGydzB"
      },
      "outputs": [],
      "source": [
        "# dashboard to analyze the unemployment rate of each indian state "
      ]
    },
    {
      "cell_type": "markdown",
      "metadata": {
        "id": "7XQGH-vOvgi0"
      },
      "source": [
        "## Dashboard to analyze the unemployment rate of each Indian state"
      ]
    },
    {
      "cell_type": "code",
      "execution_count": null,
      "metadata": {
        "id": "sGOk80FMypb5"
      },
      "outputs": [],
      "source": [
        "# plotting sunburst\n",
        "\n",
        "unemployment = data[['States','Region','Estimated Unemployment Rate']]\n",
        "figure = px.sunburst(unemployment,path=['Region','States'],\n",
        "                     values='Estimated Unemployment Rate',\n",
        "                     width=700,height=600, color_continuous_scale='RdY1Gn',\n",
        "                     title=\"Unemployment Rate in India\")\n",
        "figure.show()"
      ]
    },
    {
      "cell_type": "code",
      "execution_count": null,
      "metadata": {
        "id": "xQgATiTTzyQr"
      },
      "outputs": [],
      "source": []
    }
  ],
  "metadata": {
    "colab": {
      "authorship_tag": "ABX9TyMnCRTw6lGo/S9MDt/xaWuh",
      "include_colab_link": true,
      "private_outputs": true,
      "provenance": []
    },
    "kernelspec": {
      "display_name": "Python 3",
      "name": "python3"
    },
    "language_info": {
      "name": "python"
    }
  },
  "nbformat": 4,
  "nbformat_minor": 0
}
